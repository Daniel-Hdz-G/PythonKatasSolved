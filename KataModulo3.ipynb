{
 "cells": [
  {
   "cell_type": "markdown",
   "metadata": {},
   "source": [
    "## Ejercicio 1 - IF, ELSE"
   ]
  },
  {
   "cell_type": "code",
   "execution_count": 4,
   "metadata": {},
   "outputs": [
    {
     "name": "stdout",
     "output_type": "stream",
     "text": [
      "Sin novedades por el momento...\n"
     ]
    }
   ],
   "source": [
    "velAsteroide = 25\n",
    "if (velAsteroide > 25):\n",
    "    print('¡Precaución! Riesgo potencial!')\n",
    "else:\n",
    "    print('Sin novedades por el momento...')\n",
    "\n"
   ]
  },
  {
   "cell_type": "markdown",
   "metadata": {},
   "source": [
    "## Ejercicio 2 - IF, ELSE y ELIF"
   ]
  },
  {
   "cell_type": "code",
   "execution_count": 1,
   "metadata": {},
   "outputs": [
    {
     "name": "stdout",
     "output_type": "stream",
     "text": [
      "¡Nada que ver aquí!\n"
     ]
    }
   ],
   "source": [
    "velAsteroide = 19\n",
    "if velAsteroide > 20:\n",
    "    print('Look up! ¡Hay una luz mágica en el cielo!')\n",
    "elif velAsteroide == 20:\n",
    "    print('Look up! ¡Hay una luz mágica en el cielo!')\n",
    "else:\n",
    "    print('¡Nada que ver aquí!')"
   ]
  },
  {
   "cell_type": "markdown",
   "metadata": {},
   "source": [
    "## Ejercicio 3 - AND y OR\n"
   ]
  },
  {
   "cell_type": "code",
   "execution_count": 2,
   "metadata": {},
   "outputs": [
    {
     "name": "stdout",
     "output_type": "stream",
     "text": [
      "Mira las luces del cielo!\n"
     ]
    }
   ],
   "source": [
    "velAsteroide = 25\n",
    "tamAsteroide = 20\n",
    "if (velAsteroide >= 25 and tamAsteroide > 25):\n",
    "    print('¿Precaución! Riesgo potencial!')\n",
    "elif (velAsteroide >= 20):\n",
    "    print('Mira las luces del cielo!')\n",
    "else:\n",
    "    print('Sin novedades por el momento...')"
   ]
  }
 ],
 "metadata": {
  "interpreter": {
   "hash": "2ae97ccd1aa9812768a8d80e7067289dd53f769df70e9e3743d77556f7b1a40a"
  },
  "kernelspec": {
   "display_name": "Python 3.10.2 64-bit",
   "language": "python",
   "name": "python3"
  },
  "language_info": {
   "codemirror_mode": {
    "name": "ipython",
    "version": 3
   },
   "file_extension": ".py",
   "mimetype": "text/x-python",
   "name": "python",
   "nbconvert_exporter": "python",
   "pygments_lexer": "ipython3",
   "version": "3.10.2"
  },
  "orig_nbformat": 4
 },
 "nbformat": 4,
 "nbformat_minor": 2
}
