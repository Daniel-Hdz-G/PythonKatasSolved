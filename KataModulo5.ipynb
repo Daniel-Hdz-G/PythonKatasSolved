{
 "cells": [
  {
   "cell_type": "markdown",
   "metadata": {},
   "source": [
    "# Operaciones Matemáticas"
   ]
  },
  {
   "cell_type": "markdown",
   "metadata": {},
   "source": [
    "## 1.- Utilizar Operadores Aritméticos"
   ]
  },
  {
   "cell_type": "code",
   "execution_count": 1,
   "metadata": {},
   "outputs": [
    {
     "name": "stdout",
     "output_type": "stream",
     "text": [
      "628949330\n",
      "390577533.93\n"
     ]
    }
   ],
   "source": [
    "# Creamos las variables para almacenar las  distancias\n",
    "\n",
    "firstPlanet = 149597870\n",
    "secondPlanet = 778547200\n",
    "\n",
    "\n",
    "# Calculamos la distancia entre nuestros dos planetas\n",
    "distance_km = secondPlanet - firstPlanet\n",
    "print(distance_km)\n",
    "\n",
    "distance_mi = distance_km * 0.621\n",
    "print(distance_mi)"
   ]
  },
  {
   "cell_type": "markdown",
   "metadata": {},
   "source": [
    "## 2.- Convertir Cadenas en Números y Entrada de Usuario"
   ]
  },
  {
   "cell_type": "code",
   "execution_count": null,
   "metadata": {},
   "outputs": [],
   "source": [
    "# Solicitamos y guardamos los datos del usuario\n",
    "firstPlanet = input('La distancia entre el sol y el primer planeta en KM es: ')\n",
    "secondPlanet = input('La distancia entre el sol y el segundo planeta en KM es:')\n",
    "\n",
    "# Hacemos una conversión de nuestro input string a int\n",
    "firstPlanet = int(firstPlanet)\n",
    "secondPlanet = int(secondPlanet)\n",
    "\n",
    "# Realizamos el cálculo para obtener la distancia en km\n",
    "distance_km = secondPlanet - firstPlanet\n",
    "print(distance_km)\n",
    "\n",
    "# Convertimos la distancia de km a millas\n",
    "distance_mi = distance_km * 0.621\n",
    "print(abs(distance_mi))"
   ]
  }
 ],
 "metadata": {
  "interpreter": {
   "hash": "2ae97ccd1aa9812768a8d80e7067289dd53f769df70e9e3743d77556f7b1a40a"
  },
  "kernelspec": {
   "display_name": "Python 3.10.2 64-bit",
   "language": "python",
   "name": "python3"
  },
  "language_info": {
   "codemirror_mode": {
    "name": "ipython",
    "version": 3
   },
   "file_extension": ".py",
   "mimetype": "text/x-python",
   "name": "python",
   "nbconvert_exporter": "python",
   "pygments_lexer": "ipython3",
   "version": "3.10.2"
  },
  "orig_nbformat": 4
 },
 "nbformat": 4,
 "nbformat_minor": 2
}
